{
 "cells": [
  {
   "cell_type": "markdown",
   "metadata": {
    "colab_type": "text",
    "id": "B7STUT8mDgyQ"
   },
   "source": [
    " ## **1. Importing Required Dependcies**"
   ]
  },
  {
   "cell_type": "code",
   "execution_count": 0,
   "metadata": {
    "colab": {},
    "colab_type": "code",
    "id": "rxD_ZBg5Db0J"
   },
   "outputs": [],
   "source": [
    "#importing tweepy for twitter api\n",
    "import tweepy as tw\n",
    "#importing pandas for data manipulation\n",
    "import pandas as pd\n",
    "#importing files from google collaboratory to download csv\n",
    "from google.colab import files"
   ]
  },
  {
   "cell_type": "markdown",
   "metadata": {
    "colab_type": "text",
    "id": "fwaLkdLkDk3z"
   },
   "source": [
    "## **2. Twitter User Secret Credentials**"
   ]
  },
  {
   "cell_type": "code",
   "execution_count": 0,
   "metadata": {
    "colab": {},
    "colab_type": "code",
    "id": "fQFJRkrkxCxt"
   },
   "outputs": [],
   "source": [
    "consumer_key = 'LVIaFgMpZcbVXnYAyNHlGsBgZ'\n",
    "consumer_secret = '6vdzHqULYgD7j2tqrftBSE8PsWZdEqTeS3jhzB42Zkzw1g3A1L'\n",
    "access_token = '1142044773240455168-RwNNlB4KVI97m9gJTFlA6c1mTmOGmI'\n",
    "access_token_secret = 'zS1gvJWXLBfJEkJsjKxbp6yOY9abEugiNJ5NZEEpyGjmV'"
   ]
  },
  {
   "cell_type": "markdown",
   "metadata": {
    "colab_type": "text",
    "id": "tRcdtadYD0Y6"
   },
   "source": [
    "## **3. Twiteer Credentials Authentication**"
   ]
  },
  {
   "cell_type": "code",
   "execution_count": 0,
   "metadata": {
    "colab": {},
    "colab_type": "code",
    "id": "l43qNOarxFN9"
   },
   "outputs": [],
   "source": [
    "auth = tw.OAuthHandler(consumer_key, consumer_secret)\n",
    "auth.set_access_token(access_token, access_token_secret)\n",
    "api = tw.API(auth, wait_on_rate_limit=True)"
   ]
  },
  {
   "cell_type": "markdown",
   "metadata": {
    "colab_type": "text",
    "id": "nAzmuZcMD_5C"
   },
   "source": [
    "## **4. Bitcoin Tweets Mining**"
   ]
  },
  {
   "cell_type": "code",
   "execution_count": 0,
   "metadata": {
    "colab": {},
    "colab_type": "code",
    "id": "PBMRk4yiBY2Z"
   },
   "outputs": [],
   "source": [
    "# tweets by hashtags to be mined\n",
    "search_words = '#bitcoin' and '#btc'\n",
    "\n",
    "# tweets from date \n",
    "date_since = \"2019-07-01\"\n",
    "\n",
    "# filtering to exclude retweets\n",
    "new_search = search_words + \" -filter:retweets\"\n",
    "\n",
    "#cursor parameter with each of our requests\n",
    "btc = tw.Cursor(api.search, q=new_search, lang=\"en\", since=date_since).items(3000)\n",
    "\n",
    "# extracting only user name, tweet, location and date\n",
    "btc = [[tweet.user.screen_name, tweet.text, tweet.user.location, tweet.created_at] for tweet in btc]\n",
    "\n",
    "#converting the data extracted into pandas dataframe\n",
    "btc = pd.DataFrame(data=btc, columns=['user', 'text', 'location', 'date'])\n",
    "\n",
    "#shape of dataframe\n",
    "print(df.shape)\n",
    "\n",
    "#first 5 rows of the dataframe\n",
    "print(btc.head())\n",
    "\n",
    "#dataframe to csv\n",
    "btc.to_csv('bitcoin_tweets.csv', sep='\\t', encoding='utf-8')\n",
    "\n",
    "#download csv file\n",
    "files.download('bitcoin_tweets.csv')"
   ]
  },
  {
   "cell_type": "markdown",
   "metadata": {
    "colab_type": "text",
    "id": "HR6IyxypHZFu"
   },
   "source": [
    "## **5. Ethereum Tweets Mining**"
   ]
  },
  {
   "cell_type": "code",
   "execution_count": 0,
   "metadata": {
    "colab": {},
    "colab_type": "code",
    "id": "GPR1VOJ-xJny"
   },
   "outputs": [],
   "source": [
    "# tweets by hashtags to be mined\n",
    "search_words = '#ethereum' and '#eth'\n",
    "\n",
    "# tweets from date \n",
    "date_since = \"2019-07-01\"\n",
    "\n",
    "# filtering to exclude retweets\n",
    "new_search = search_words + \" -filter:retweets\"\n",
    "\n",
    "#cursor parameter with each of our requests\n",
    "eth = tw.Cursor(api.search, q=new_search, lang=\"en\", since=date_since).items(3000)\n",
    "\n",
    "# extracting only user name, tweet, location and date\n",
    "eth = [[tweet.user.screen_name, tweet.text, tweet.user.location, tweet.created_at] for tweet in eth]"
   ]
  },
  {
   "cell_type": "code",
   "execution_count": 106,
   "metadata": {
    "colab": {
     "base_uri": "https://localhost:8080/",
     "height": 170
    },
    "colab_type": "code",
    "id": "D7OU5CnQxagv",
    "outputId": "fe3954c4-f742-43ad-c2dc-93ba15d664cb"
   },
   "outputs": [
    {
     "name": "stdout",
     "output_type": "stream",
     "text": [
      "(1602, 4)\n",
      "              user  ...                date\n",
      "0    HeartlanderPD  ... 2019-07-18 23:44:14\n",
      "1     KrakenPrices  ... 2019-07-18 23:44:06\n",
      "2  ChaEYou53800684  ... 2019-07-18 23:43:47\n",
      "3  ChaEYou53800684  ... 2019-07-18 23:43:21\n",
      "4        ABreddy18  ... 2019-07-18 23:43:18\n",
      "\n",
      "[5 rows x 4 columns]\n"
     ]
    }
   ],
   "source": [
    "#converting the data extracted into pandas dataframe\n",
    "eth = pd.DataFrame(data=eth, columns=['user', 'text', 'location', 'date'])\n",
    "\n",
    "#shape of dataframe\n",
    "print(eth.shape)\n",
    "\n",
    "#first 5 rows of the dataframe\n",
    "print(eth.head())\n",
    "\n",
    "#dataframe to csv\n",
    "eth.to_csv('ethereum_tweets.csv', sep='\\t', encoding='utf-8')\n",
    "\n",
    "#download csv file\n",
    "files.download('ethereum_tweets.csv')"
   ]
  },
  {
   "cell_type": "markdown",
   "metadata": {
    "colab_type": "text",
    "id": "3c-ph8AJg-X9"
   },
   "source": [
    "## **6. Ripple Tweets Mining**"
   ]
  },
  {
   "cell_type": "code",
   "execution_count": 0,
   "metadata": {
    "colab": {},
    "colab_type": "code",
    "id": "xvYz3hM0MLha"
   },
   "outputs": [],
   "source": [
    "# tweets by hashtags to be mined\n",
    "search_words = '#ripple' and '#xrp'\n",
    "\n",
    "# tweets from date \n",
    "date_since = \"2019-07-01\"\n",
    "\n",
    "# filtering to exclude retweets\n",
    "new_search = search_words + \" -filter:retweets\"\n",
    "\n",
    "#cursor parameter with each of our requests\n",
    "xrp = tw.Cursor(api.search, q=new_search, lang=\"en\", since=date_since).items(3000)\n",
    "\n",
    "# extracting only user name, tweet, location and date\n",
    "xrp = [[tweet.user.screen_name, tweet.text, tweet.user.location, tweet.created_at] for tweet in xrp]"
   ]
  },
  {
   "cell_type": "code",
   "execution_count": 117,
   "metadata": {
    "colab": {
     "base_uri": "https://localhost:8080/",
     "height": 170
    },
    "colab_type": "code",
    "id": "_pOvFGu8hSy-",
    "outputId": "c82de6e9-ff77-4981-8baf-157cb343837c"
   },
   "outputs": [
    {
     "name": "stdout",
     "output_type": "stream",
     "text": [
      "(2000, 4)\n",
      "             user  ...                date\n",
      "0   CashlessSocys  ... 2019-07-19 00:59:49\n",
      "1     Rob92608209  ... 2019-07-19 00:59:42\n",
      "2       TickerTop  ... 2019-07-19 00:59:25\n",
      "3  jasonclarktwit  ... 2019-07-19 00:59:21\n",
      "4  jasonclarktwit  ... 2019-07-19 00:59:17\n",
      "\n",
      "[5 rows x 4 columns]\n"
     ]
    }
   ],
   "source": [
    "#converting the data extracted into pandas dataframe\n",
    "xrp = pd.DataFrame(data=xrp, columns=['user', 'text', 'location', 'date'])\n",
    "\n",
    "#shape of dataframe\n",
    "print(xrp.shape)\n",
    "\n",
    "#first 5 rows of the dataframe\n",
    "print(xrp.head())\n",
    "\n",
    "#dataframe to csv\n",
    "xrp.to_csv('ripple_tweets.csv', sep='\\t', encoding='utf-8')\n",
    "\n",
    "#download csv file\n",
    "files.download('ripple_tweets.csv')"
   ]
  },
  {
   "cell_type": "markdown",
   "metadata": {
    "colab_type": "text",
    "id": "QbTViXWzwFcF"
   },
   "source": [
    "## 7. Litecoin Tweets Mining"
   ]
  },
  {
   "cell_type": "code",
   "execution_count": 0,
   "metadata": {
    "colab": {},
    "colab_type": "code",
    "id": "jMlwjiHIxhRJ"
   },
   "outputs": [],
   "source": [
    "# tweets by hashtags to be mined\n",
    "search_words = '#litecoin' and '#ltc'\n",
    "\n",
    "# tweets from date \n",
    "date_since = \"2019-07-01\"\n",
    "\n",
    "# filtering to exclude retweets\n",
    "new_search = search_words + \" -filter:retweets\"\n",
    "\n",
    "#cursor parameter with each of our requests\n",
    "ltc = tw.Cursor(api.search, q=new_search, lang=\"en\", since=date_since).items(3000)\n",
    "\n",
    "# extracting only user name, tweet, location and date\n",
    "ltc = [[tweet.user.screen_name, tweet.text, tweet.user.location, tweet.created_at] for tweet in ltc]"
   ]
  },
  {
   "cell_type": "code",
   "execution_count": 120,
   "metadata": {
    "colab": {
     "base_uri": "https://localhost:8080/",
     "height": 170
    },
    "colab_type": "code",
    "id": "Oaq1MuMRxqo2",
    "outputId": "948dd96a-0dbe-46e4-9d82-3da3d6ba9102"
   },
   "outputs": [
    {
     "name": "stdout",
     "output_type": "stream",
     "text": [
      "(2245, 4)\n",
      "              user  ...                date\n",
      "0    cryptonewslab  ... 2019-07-19 01:03:16\n",
      "1        CryptomaQ  ... 2019-07-19 01:02:15\n",
      "2       CoinCapsAi  ... 2019-07-19 01:00:59\n",
      "3  litecoin_price_  ... 2019-07-19 01:00:52\n",
      "4      CoinTigoDev  ... 2019-07-19 01:00:30\n",
      "\n",
      "[5 rows x 4 columns]\n"
     ]
    }
   ],
   "source": [
    "#converting the data extracted into pandas dataframe\n",
    "ltc = pd.DataFrame(data=ltc, columns=['user', 'text', 'location', 'date'])\n",
    "\n",
    "#shape of dataframe\n",
    "print(ltc.shape)\n",
    "\n",
    "#first 5 rows of the dataframe\n",
    "print(ltc.head())\n",
    "\n",
    "#dataframe to csv\n",
    "ltc.to_csv('litecoin_tweets.csv', sep='\\t', encoding='utf-8')\n",
    "\n",
    "#download csv file\n",
    "files.download('litecoin_tweets.csv')"
   ]
  },
  {
   "cell_type": "markdown",
   "metadata": {
    "colab_type": "text",
    "id": "S2fIBduk0I68"
   },
   "source": [
    "## 8. Bitcoin Cash Data Mining"
   ]
  },
  {
   "cell_type": "code",
   "execution_count": 0,
   "metadata": {
    "colab": {},
    "colab_type": "code",
    "id": "Yx4SNMvFxryu"
   },
   "outputs": [],
   "source": [
    "# tweets by hashtags to be mined\n",
    "search_words = '#bitcoincash' and '#bch'\n",
    "\n",
    "# tweets from date \n",
    "date_since = \"2019-07-01\"\n",
    "\n",
    "# filtering to exclude retweets\n",
    "new_search = search_words + \" -filter:retweets\"\n",
    "\n",
    "#cursor parameter with each of our requests\n",
    "bch = tw.Cursor(api.search, q=new_search, lang=\"en\", since=date_since).items(3000)\n",
    "\n",
    "# extracting only user name, tweet, location and date\n",
    "bch = [[tweet.user.screen_name, tweet.text, tweet.user.location, tweet.created_at] for tweet in bch]"
   ]
  },
  {
   "cell_type": "code",
   "execution_count": 7,
   "metadata": {
    "colab": {
     "base_uri": "https://localhost:8080/",
     "height": 170
    },
    "colab_type": "code",
    "id": "zKYpT-bWx-gV",
    "outputId": "04369f87-85ec-48bb-e53d-8d7e2b423845"
   },
   "outputs": [
    {
     "name": "stdout",
     "output_type": "stream",
     "text": [
      "(3000, 4)\n",
      "            user  ...                date\n",
      "0   CashTechNews  ... 2019-07-19 10:12:04\n",
      "1      bch_price  ... 2019-07-19 10:02:03\n",
      "2    dailycoinfo  ... 2019-07-19 10:00:43\n",
      "3      coinstats  ... 2019-07-19 10:00:22\n",
      "4  webnowcompany  ... 2019-07-19 09:58:13\n",
      "\n",
      "[5 rows x 4 columns]\n"
     ]
    }
   ],
   "source": [
    "#converting the data extracted into pandas dataframe\n",
    "bch = pd.DataFrame(data=bch, columns=['user', 'text', 'location', 'date'])\n",
    "\n",
    "#shape of dataframe\n",
    "print(bch.shape)\n",
    "\n",
    "#first 5 rows of the dataframe\n",
    "print(bch.head())\n",
    "\n",
    "#dataframe to csv\n",
    "bch.to_csv('bitcoincash_tweets.csv', sep='\\t', encoding='utf-8')\n",
    "\n",
    "#download csv file\n",
    "files.download('bitcoincash_tweets.csv')"
   ]
  },
  {
   "cell_type": "markdown",
   "metadata": {
    "colab_type": "text",
    "id": "34cHz6E7yFfe"
   },
   "source": [
    "## **9. EOS Tweets Mining**"
   ]
  },
  {
   "cell_type": "code",
   "execution_count": 0,
   "metadata": {
    "colab": {},
    "colab_type": "code",
    "id": "KLYR6LZPyKxa"
   },
   "outputs": [],
   "source": [
    "# tweets by hashtags to be mined\n",
    "search_words = '#EOS'\n",
    "\n",
    "# tweets from date \n",
    "date_since = \"2019-07-01\"\n",
    "\n",
    "# filtering to exclude retweets\n",
    "new_search = search_words + \" -filter:retweets\"\n",
    "\n",
    "#cursor parameter with each of our requests\n",
    "eos = tw.Cursor(api.search, q=new_search, lang=\"en\", since=date_since).items(3000)\n",
    "\n",
    "# extracting only user name, tweet, location and date\n",
    "eos = [[tweet.user.screen_name, tweet.text, tweet.user.location, tweet.created_at] for tweet in eos]"
   ]
  },
  {
   "cell_type": "code",
   "execution_count": 9,
   "metadata": {
    "colab": {
     "base_uri": "https://localhost:8080/",
     "height": 170
    },
    "colab_type": "code",
    "id": "GB1Btq2v9mLm",
    "outputId": "66cc1919-6c31-4bbb-adb5-afa82f1a482b"
   },
   "outputs": [
    {
     "name": "stdout",
     "output_type": "stream",
     "text": [
      "(3000, 4)\n",
      "             user  ...                date\n",
      "0  hodlclothingeu  ... 2019-07-19 10:31:56\n",
      "1        IostPlay  ... 2019-07-19 10:31:55\n",
      "2  hodlclothingeu  ... 2019-07-19 10:31:39\n",
      "3  hodlclothingeu  ... 2019-07-19 10:28:37\n",
      "4  hodlclothingeu  ... 2019-07-19 10:28:22\n",
      "\n",
      "[5 rows x 4 columns]\n"
     ]
    }
   ],
   "source": [
    "#converting the data extracted into pandas dataframe\n",
    "eos = pd.DataFrame(data=eos, columns=['user', 'text', 'location', 'date'])\n",
    "\n",
    "#shape of dataframe\n",
    "print(eos.shape)\n",
    "\n",
    "#first 5 rows of the dataframe\n",
    "print(eos.head())\n",
    "\n",
    "#dataframe to csv\n",
    "eos.to_csv('eos_tweets.csv', sep='\\t', encoding='utf-8')\n",
    "\n",
    "#download csv file\n",
    "files.download('eos_tweets.csv')"
   ]
  },
  {
   "cell_type": "markdown",
   "metadata": {
    "colab_type": "text",
    "id": "NykxhN1Y4Srv"
   },
   "source": [
    "## **10. Binance Coin Tweets Mining**"
   ]
  },
  {
   "cell_type": "code",
   "execution_count": 0,
   "metadata": {
    "colab": {},
    "colab_type": "code",
    "id": "cPDNNlP598CW"
   },
   "outputs": [],
   "source": [
    "# tweets by hashtags to be mined\n",
    "search_words1 = 'binancecoin' and 'bnb'\n",
    "search_words2 = '#binancecoin' and '#bnb'\n",
    "search_words = search_words1 + search_words2\n",
    "\n",
    "# tweets from date \n",
    "date_since = \"2019-07-01\"\n",
    "\n",
    "# filtering to exclude retweets\n",
    "new_search = search_words + \" -filter:retweets\"\n",
    "\n",
    "#cursor parameter with each of our requests\n",
    "bnb = tw.Cursor(api.search, q=new_search, lang=\"en\", since=date_since).items(3000)\n",
    "\n",
    "# extracting only user name, tweet, location and date\n",
    "bnb = [[tweet.user.screen_name, tweet.text, tweet.user.location, tweet.created_at] for tweet in bnb]"
   ]
  },
  {
   "cell_type": "code",
   "execution_count": 87,
   "metadata": {
    "colab": {
     "base_uri": "https://localhost:8080/",
     "height": 170
    },
    "colab_type": "code",
    "id": "NWfH0ZJR-BMt",
    "outputId": "c73fecb9-f059-4277-f750-47270171819b"
   },
   "outputs": [
    {
     "name": "stdout",
     "output_type": "stream",
     "text": [
      "(2799, 4)\n",
      "              user  ...                date\n",
      "0    CryptoCompare  ... 2019-07-19 13:23:49\n",
      "1  northnorfolknow  ... 2019-07-19 13:15:21\n",
      "2         Alt_Cash  ... 2019-07-19 13:06:03\n",
      "3         quadency  ... 2019-07-19 13:00:54\n",
      "4        coinstats  ... 2019-07-19 13:00:27\n",
      "\n",
      "[5 rows x 4 columns]\n"
     ]
    }
   ],
   "source": [
    "#converting the data extracted into pandas dataframe\n",
    "bnb = pd.DataFrame(data=bnb, columns=['user', 'text', 'location', 'date'])\n",
    "\n",
    "#shape of dataframe\n",
    "print(bnb.shape)\n",
    "\n",
    "#first 5 rows of the dataframe\n",
    "print(bnb.head())\n",
    "\n",
    "#dataframe to csv\n",
    "bnb.to_csv('binance_tweets.csv', sep='\\t', encoding='utf-8')\n",
    "\n",
    "#download csv file\n",
    "files.download('binance_tweets.csv')"
   ]
  },
  {
   "cell_type": "markdown",
   "metadata": {
    "colab_type": "text",
    "id": "qz1zpeJcYTiC"
   },
   "source": [
    "## **11. Tether Tweets Mining**"
   ]
  },
  {
   "cell_type": "code",
   "execution_count": 0,
   "metadata": {
    "colab": {},
    "colab_type": "code",
    "id": "1dKwFa5OfyT4"
   },
   "outputs": [],
   "source": [
    "# tweets by hashtags to be mined\n",
    "search_words = '#tether' and '#usdt'\n",
    "#search_words2 = 'tether' and 'usdt'\n",
    "#search_words = search_words1 + search_words2\n",
    "\n",
    "# tweets from date \n",
    "date_since = \"2019-07-01\"\n",
    "\n",
    "# filtering to exclude retweets\n",
    "new_search = search_words + \" -filter:retweets\"\n",
    "\n",
    "#cursor parameter with each of our requests\n",
    "usdt = tw.Cursor(api.search, q=new_search, lang=\"en\", since=date_since).items(3000)\n",
    "\n",
    "# extracting only user name, tweet, location and date\n",
    "usdt = [[tweet.user.screen_name, tweet.text, tweet.user.location, tweet.created_at] for tweet in usdt]"
   ]
  },
  {
   "cell_type": "code",
   "execution_count": 19,
   "metadata": {
    "colab": {
     "base_uri": "https://localhost:8080/",
     "height": 170
    },
    "colab_type": "code",
    "id": "85matWU1gqPP",
    "outputId": "5e164f97-7226-461c-fca6-85c5c622f912"
   },
   "outputs": [
    {
     "name": "stdout",
     "output_type": "stream",
     "text": [
      "(1240, 4)\n",
      "            user  ...                date\n",
      "0  xbtusdBITCOIN  ... 2019-07-19 21:17:49\n",
      "1    GannMarkets  ... 2019-07-19 21:05:07\n",
      "2      coinstats  ... 2019-07-19 21:00:33\n",
      "3   CoinoMonitor  ... 2019-07-19 20:33:01\n",
      "4      KadaneZod  ... 2019-07-19 20:12:14\n",
      "\n",
      "[5 rows x 4 columns]\n"
     ]
    }
   ],
   "source": [
    "#converting the data extracted into pandas dataframe\n",
    "usdt = pd.DataFrame(data=usdt, columns=['user', 'text', 'location', 'date'])\n",
    "\n",
    "#shape of dataframe\n",
    "print(usdt.shape)\n",
    "\n",
    "#first 5 rows of the dataframe\n",
    "print(usdt.head())\n",
    "\n",
    "#dataframe to csv\n",
    "usdt.to_csv('tether_tweets.csv', sep='\\t', encoding='utf-8')\n",
    "\n",
    "#download csv file\n",
    "files.download('tether_tweets.csv')"
   ]
  },
  {
   "cell_type": "markdown",
   "metadata": {
    "colab_type": "text",
    "id": "bhha1u_VWjm0"
   },
   "source": [
    "## **12. Bitcoin SV Tweets Mining**"
   ]
  },
  {
   "cell_type": "code",
   "execution_count": 0,
   "metadata": {
    "colab": {},
    "colab_type": "code",
    "id": "EOLERI-9WqLy"
   },
   "outputs": [],
   "source": [
    "# tweets by hashtags to be mined\n",
    "search_words = '#bitcoinsv' and '#bsv'\n",
    "\n",
    "# tweets from date \n",
    "date_since = \"2019-07-01\"\n",
    "\n",
    "# filtering to exclude retweets\n",
    "new_search = search_words + \" -filter:retweets\"\n",
    "\n",
    "#cursor parameter with each of our requests\n",
    "bsv = tw.Cursor(api.search, q=new_search, lang=\"en\", since=date_since).items(3000)\n",
    "\n",
    "# extracting only user name, tweet, location and date\n",
    "bsv = [[tweet.user.screen_name, tweet.text, tweet.user.location, tweet.created_at] for tweet in bsv]"
   ]
  },
  {
   "cell_type": "code",
   "execution_count": 22,
   "metadata": {
    "colab": {
     "base_uri": "https://localhost:8080/",
     "height": 170
    },
    "colab_type": "code",
    "id": "5xBZmiUNW9Hi",
    "outputId": "65a47008-2340-4f5b-fc30-e3e9ed408815"
   },
   "outputs": [
    {
     "name": "stdout",
     "output_type": "stream",
     "text": [
      "(1706, 4)\n",
      "              user  ...                date\n",
      "0     CoinoMonitor  ... 2019-07-19 22:05:05\n",
      "1         AutoRass  ... 2019-07-19 21:54:11\n",
      "2          FnqComp  ... 2019-07-19 21:51:40\n",
      "3  XCashFoundation  ... 2019-07-19 21:47:18\n",
      "4            ejfhp  ... 2019-07-19 21:45:13\n",
      "\n",
      "[5 rows x 4 columns]\n"
     ]
    }
   ],
   "source": [
    "#converting the data extracted into pandas dataframe\n",
    "bsv = pd.DataFrame(data=bsv, columns=['user', 'text', 'location', 'date'])\n",
    "\n",
    "#shape of dataframe\n",
    "print(bsv.shape)\n",
    "\n",
    "#first 5 rows of the dataframe\n",
    "print(bsv.head())\n",
    "\n",
    "#dataframe to csv\n",
    "bsv.to_csv('bitcoinsv_tweets.csv', sep='\\t', encoding='utf-8')\n",
    "\n",
    "#download csv file\n",
    "files.download('bitcoinsv_tweets.csv')"
   ]
  },
  {
   "cell_type": "markdown",
   "metadata": {
    "colab_type": "text",
    "id": "OxkihP3PXSdF"
   },
   "source": [
    "## **13. Stellar Tweets Mining**"
   ]
  },
  {
   "cell_type": "code",
   "execution_count": 0,
   "metadata": {
    "colab": {},
    "colab_type": "code",
    "id": "h9BedzbTXyRk"
   },
   "outputs": [],
   "source": [
    "# tweets by hashtags to be mined\n",
    "search_words = '#stellar' and '#xlm'\n",
    "\n",
    "# tweets from date \n",
    "date_since = \"2019-07-01\"\n",
    "\n",
    "# filtering to exclude retweets\n",
    "new_search = search_words + \" -filter:retweets\"\n",
    "\n",
    "#cursor parameter with each of our requests\n",
    "xlm = tw.Cursor(api.search, q=new_search, lang=\"en\", since=date_since).items(3000)\n",
    "\n",
    "# extracting only user name, tweet, location and date\n",
    "xlm = [[tweet.user.screen_name, tweet.text, tweet.user.location, tweet.created_at] for tweet in xlm]"
   ]
  },
  {
   "cell_type": "code",
   "execution_count": 25,
   "metadata": {
    "colab": {
     "base_uri": "https://localhost:8080/",
     "height": 170
    },
    "colab_type": "code",
    "id": "lCibpzIpXyyg",
    "outputId": "5b1dfbde-ef5c-4c0c-fe2c-e2f3de343c20"
   },
   "outputs": [
    {
     "name": "stdout",
     "output_type": "stream",
     "text": [
      "(2328, 4)\n",
      "            user  ...                date\n",
      "0  RedditStellar  ... 2019-07-19 22:23:15\n",
      "1     govip_site  ... 2019-07-19 22:20:52\n",
      "2  webnowcompany  ... 2019-07-19 22:12:50\n",
      "3     KoinKnight  ... 2019-07-19 22:01:20\n",
      "4       xlmprice  ... 2019-07-19 22:00:04\n",
      "\n",
      "[5 rows x 4 columns]\n"
     ]
    }
   ],
   "source": [
    "#converting the data extracted into pandas dataframe\n",
    "xlm = pd.DataFrame(data=xlm, columns=['user', 'text', 'location', 'date'])\n",
    "\n",
    "#shape of dataframe\n",
    "print(xlm.shape)\n",
    "\n",
    "#first 5 rows of the dataframe\n",
    "print(xlm.head())\n",
    "\n",
    "#dataframe to csv\n",
    "xlm.to_csv('stellar_tweets.csv', sep='\\t', encoding='utf-8')\n",
    "\n",
    "#download csv file\n",
    "files.download('stellar_tweets.csv')"
   ]
  }
 ],
 "metadata": {
  "colab": {
   "name": "Untitled8.ipynb",
   "provenance": [],
   "version": "0.3.2"
  },
  "kernelspec": {
   "display_name": "Python 3",
   "language": "python",
   "name": "python3"
  },
  "language_info": {
   "codemirror_mode": {
    "name": "ipython",
    "version": 3
   },
   "file_extension": ".py",
   "mimetype": "text/x-python",
   "name": "python",
   "nbconvert_exporter": "python",
   "pygments_lexer": "ipython3",
   "version": "3.6.5"
  }
 },
 "nbformat": 4,
 "nbformat_minor": 1
}
